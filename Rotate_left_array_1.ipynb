{
 "cells": [
  {
   "cell_type": "code",
   "execution_count": 1,
   "id": "7c567871",
   "metadata": {},
   "outputs": [
    {
     "name": "stderr",
     "output_type": "stream",
     "text": [
      "C:\\Users\\HOME\\anaconda3\\lib\\site-packages\\scipy\\__init__.py:138: UserWarning: A NumPy version >=1.16.5 and <1.23.0 is required for this version of SciPy (detected version 1.23.4)\n",
      "  warnings.warn(f\"A NumPy version >={np_minversion} and <{np_maxversion} is required for this version of \"\n"
     ]
    }
   ],
   "source": [
    "import matplotlib.pyplot as plt\n",
    "import seaborn as sns\n",
    "import numpy as np\n"
   ]
  },
  {
   "cell_type": "code",
   "execution_count": 2,
   "id": "ed7930d1",
   "metadata": {},
   "outputs": [],
   "source": [
    "a=['Sai','Supriya','Subbarao','Sailaja']"
   ]
  },
  {
   "cell_type": "code",
   "execution_count": 3,
   "id": "e604ebe2",
   "metadata": {},
   "outputs": [],
   "source": [
    "import datetime\n",
    "import pandas as pd"
   ]
  },
  {
   "cell_type": "code",
   "execution_count": 4,
   "id": "813cd1bd",
   "metadata": {},
   "outputs": [],
   "source": [
    "age=[31,24,58,57]\n",
    "df=pd.DataFrame(list(zip(a,age)),columns=['person_name','Age'])"
   ]
  },
  {
   "cell_type": "code",
   "execution_count": 5,
   "id": "e0bde862",
   "metadata": {},
   "outputs": [
    {
     "data": {
      "image/png": "[encoded data removed]",
      "text/plain": [
       "<Figure size 432x288 with 1 Axes>"
      ]
     },
     "metadata": {
      "needs_background": "light"
     },
     "output_type": "display_data"
    }
   ],
   "source": [
    "sns.barplot(x='person_name',y='Age',data=df)\n",
    "sns.scatterplot(x='person_name',y='Age',data=df,cmap='red')\n",
    "for i in range(len(age)):\n",
    "    plt.text(i,age[i]+0.25,age[i])"
   ]
  },
  {
   "cell_type": "code",
   "execution_count": 6,
   "id": "5ecd9827",
   "metadata": {},
   "outputs": [],
   "source": [
    "import numpy as np\n",
    "age=np.array(age)"
   ]
  },
  {
   "cell_type": "code",
   "execution_count": 7,
   "id": "bd2fcb07",
   "metadata": {},
   "outputs": [
    {
     "data": {
      "text/plain": [
       "[31, 24, 58, 57]"
      ]
     },
     "execution_count": 7,
     "metadata": {},
     "output_type": "execute_result"
    }
   ],
   "source": [
    "age=[31,24,58,57]\n",
    "age"
   ]
  },
  {
   "cell_type": "code",
   "execution_count": 8,
   "id": "a65a8c28",
   "metadata": {},
   "outputs": [
    {
     "data": {
      "text/plain": [
       "(4,)"
      ]
     },
     "execution_count": 8,
     "metadata": {},
     "output_type": "execute_result"
    }
   ],
   "source": [
    "age=np.array(age)\n",
    "age.shape"
   ]
  },
  {
   "cell_type": "code",
   "execution_count": 9,
   "id": "8dfcd3ab",
   "metadata": {},
   "outputs": [],
   "source": [
    "def rotate_Left_Array(data):\n",
    "    x=data[len(data)-1]\n",
    "    for i in range(len(data)):\n",
    "        data[i-1]=data[i]\n",
    "    data[len(data)-2]=x\n",
    "    return data\n",
    "    "
   ]
  },
  {
   "cell_type": "code",
   "execution_count": 11,
   "id": "2e004952",
   "metadata": {},
   "outputs": [
    {
     "data": {
      "text/plain": [
       "array([24, 58, 57, 31])"
      ]
     },
     "execution_count": 11,
     "metadata": {},
     "output_type": "execute_result"
    }
   ],
   "source": [
    "rotate_Left_Array(age)"
   ]
  },
  {
   "cell_type": "code",
   "execution_count": null,
   "id": "dc46bfd1",
   "metadata": {},
   "outputs": [],
   "source": [
    "\n",
    "    x=data[len(data)-1]\n",
    "    for i in range(len(data)):\n",
    "        data[i-1]=data[i]\n",
    "    data[len(data)-2]=x\n",
    "    "
   ]
  },
  {
   "cell_type": "code",
   "execution_count": 12,
   "id": "44aeb695",
   "metadata": {},
   "outputs": [],
   "source": [
    "def rotate_Right_Array(data):\n",
    "    for i in range(len(data)-1):\n",
    "        rotate_Left_Array(data)\n",
    "    "
   ]
  },
  {
   "cell_type": "code",
   "execution_count": 17,
   "id": "f6a6d30b",
   "metadata": {},
   "outputs": [],
   "source": [
    "rotate_Right_Array(age)"
   ]
  },
  {
   "cell_type": "code",
   "execution_count": 18,
   "id": "0f3ccbd3",
   "metadata": {},
   "outputs": [
    {
     "data": {
      "text/plain": [
       "array([58, 57, 31, 24])"
      ]
     },
     "execution_count": 18,
     "metadata": {},
     "output_type": "execute_result"
    }
   ],
   "source": [
    "age"
   ]
  },
  {
   "cell_type": "code",
   "execution_count": null,
   "id": "491a8cd7",
   "metadata": {},
   "outputs": [],
   "source": []
  }
 ],
 "metadata": {
  "kernelspec": {
   "display_name": "Python 3",
   "language": "python",
   "name": "python3"
  },
  "language_info": {
   "codemirror_mode": {
    "name": "ipython",
    "version": 3
   },
   "file_extension": ".py",
   "mimetype": "text/x-python",
   "name": "python",
   "nbconvert_exporter": "python",
   "pygments_lexer": "ipython3",
   "version": "3.8.8"
  }
 },
 "nbformat": 4,
 "nbformat_minor": 5
}
